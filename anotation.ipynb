{
 "cells": [
  {
   "cell_type": "code",
   "execution_count": 5,
   "id": "ed8caf70",
   "metadata": {},
   "outputs": [
    {
     "ename": "NotADirectoryError",
     "evalue": "[Errno 20] Not a directory: '/Users/fenilvadher/Documents/Collage Data/SEM - 6/DL/Task 2 Handwritten Character Recognition using Deep Learning/Fenil Dataset/Task 2_Full Dataset.zip'",
     "output_type": "error",
     "traceback": [
      "\u001b[31m---------------------------------------------------------------------------\u001b[39m",
      "\u001b[31mNotADirectoryError\u001b[39m                        Traceback (most recent call last)",
      "\u001b[36mCell\u001b[39m\u001b[36m \u001b[39m\u001b[32mIn[5]\u001b[39m\u001b[32m, line 16\u001b[39m\n\u001b[32m     14\u001b[39m \u001b[38;5;66;03m# Confirm extraction path\u001b[39;00m\n\u001b[32m     15\u001b[39m image_folder = os.path.join(extract_to, \u001b[33m'\u001b[39m\u001b[33m/Users/fenilvadher/Documents/Collage Data/SEM - 6/DL/Task 2 Handwritten Character Recognition using Deep Learning/Fenil Dataset/Task 2_Full Dataset.zip\u001b[39m\u001b[33m'\u001b[39m)\n\u001b[32m---> \u001b[39m\u001b[32m16\u001b[39m \u001b[38;5;28mprint\u001b[39m(\u001b[33mf\u001b[39m\u001b[33m\"\u001b[39m\u001b[33mTotal images: \u001b[39m\u001b[38;5;132;01m{\u001b[39;00m\u001b[38;5;28mlen\u001b[39m(\u001b[43mos\u001b[49m\u001b[43m.\u001b[49m\u001b[43mlistdir\u001b[49m\u001b[43m(\u001b[49m\u001b[43mimage_folder\u001b[49m\u001b[43m)\u001b[49m)\u001b[38;5;132;01m}\u001b[39;00m\u001b[33m\"\u001b[39m)  \u001b[38;5;66;03m# Should be 500\u001b[39;00m\n\u001b[32m     18\u001b[39m \u001b[38;5;66;03m# === Step 2: Create label list ===\u001b[39;00m\n\u001b[32m     19\u001b[39m \u001b[38;5;66;03m# Define the character list in order\u001b[39;00m\n\u001b[32m     20\u001b[39m char_list = \u001b[38;5;28mlist\u001b[39m(\u001b[33m'\u001b[39m\u001b[33mABCDEFGHIJKLMNOPQRSTUVWXYZ\u001b[39m\u001b[33m'\u001b[39m) + \u001b[38;5;28mlist\u001b[39m(\u001b[33m'\u001b[39m\u001b[33m0123456789\u001b[39m\u001b[33m'\u001b[39m) + \u001b[38;5;28mlist\u001b[39m(\u001b[33m'\u001b[39m\u001b[33mabcdefghijklmn\u001b[39m\u001b[33m'\u001b[39m)\n",
      "\u001b[31mNotADirectoryError\u001b[39m: [Errno 20] Not a directory: '/Users/fenilvadher/Documents/Collage Data/SEM - 6/DL/Task 2 Handwritten Character Recognition using Deep Learning/Fenil Dataset/Task 2_Full Dataset.zip'"
     ]
    }
   ],
   "source": [
    "import zipfile\n",
    "import os\n",
    "import pandas as pd\n",
    "\n",
    "# === Step 1: Extract the ZIP file ===\n",
    "# Replace this path with the actual path to your ZIP file\n",
    "zip_path = '/Users/fenilvadher/Documents/Collage Data/SEM - 6/DL/Task 2 Handwritten Character Recognition using Deep Learning/Fenil Dataset/Task 2_Full Dataset.zip'\n",
    "\n",
    "# Extract the ZIP file to a folder\n",
    "extract_to = 'task2_Dataset_All'\n",
    "with zipfile.ZipFile(zip_path, 'r') as zip_ref:\n",
    "    zip_ref.extractall(extract_to)\n",
    "\n",
    "# Confirm extraction path\n",
    "image_folder = os.path.join(extract_to, '/Users/fenilvadher/Documents/Collage Data/SEM - 6/DL/Task 2 Handwritten Character Recognition using Deep Learning/Fenil Dataset/Task 2_Full Dataset.zip')\n",
    "print(f\"Total images: {len(os.listdir(image_folder))}\")  # Should be 500\n",
    "\n",
    "# === Step 2: Create label list ===\n",
    "# Define the character list in order\n",
    "char_list = list('ABCDEFGHIJKLMNOPQRSTUVWXYZ') + list('0123456789') + list('abcdefghijklmn')\n",
    "assert len(char_list) == 50, \"Character list must have 50 characters\"\n",
    "\n",
    "# === Step 3: Create image-label mapping ===\n",
    "image_data = []\n",
    "\n",
    "for img_num in range(1, 944):  # 1 to 500\n",
    "    img_name = f\"{img_num}.png\"\n",
    "    img_path = os.path.join('/Users/fenilvadher/Documents/Collage Data/SEM - 6/DL/Task 2 Handwritten Character Recognition using Deep Learning/Fenil Dataset/Task 2_Full Dataset.zip', img_name)  # relative path\n",
    "\n",
    "    # Map image number to character\n",
    "    char_idx = (img_num - 1) % 50\n",
    "    label = char_list[char_idx]\n",
    "\n",
    "    image_data.append({'image': img_path, 'label': label})\n",
    "\n",
    "# === Step 4: Save to CSV ===\n",
    "df = pd.DataFrame(image_data)\n",
    "df.to_csv('all_labels.csv', index=False)\n",
    "\n",
    "# === Step 5: Verify output ===\n",
    "print(f\"Created CSV with {len(df)} entries\")\n",
    "print(df.head())\n",
    "print(f\"Unique labels: {df['label'].nunique()}\")  # Should be 50\n"
   ]
  },
  {
   "cell_type": "code",
   "execution_count": null,
   "id": "99c4692e",
   "metadata": {},
   "outputs": [],
   "source": []
  }
 ],
 "metadata": {
  "kernelspec": {
   "display_name": "Python 3",
   "language": "python",
   "name": "python3"
  },
  "language_info": {
   "codemirror_mode": {
    "name": "ipython",
    "version": 3
   },
   "file_extension": ".py",
   "mimetype": "text/x-python",
   "name": "python",
   "nbconvert_exporter": "python",
   "pygments_lexer": "ipython3",
   "version": "3.11.8"
  }
 },
 "nbformat": 4,
 "nbformat_minor": 5
}
